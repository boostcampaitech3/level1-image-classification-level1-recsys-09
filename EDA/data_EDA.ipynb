{
 "cells": [
  {
   "cell_type": "code",
   "execution_count": 125,
   "id": "69c07e77-2d2a-4df2-b0b6-7503bfcf61b2",
   "metadata": {},
   "outputs": [],
   "source": [
    "import numpy as np\n",
    "import pandas as pd\n",
    "import matplotlib as mpl\n",
    "import matplotlib.pyplot as plt\n",
    "from PIL import Image"
   ]
  },
  {
   "cell_type": "code",
   "execution_count": 126,
   "id": "e1a2d0c3-21e1-4aad-abae-36b496ecd627",
   "metadata": {},
   "outputs": [],
   "source": [
    "from torch.utils.data import Dataset, DataLoader, random_split, SubsetRandomSampler, WeightedRandomSampler"
   ]
  },
  {
   "cell_type": "code",
   "execution_count": 127,
   "id": "b7309413-dc4a-44a0-b9f8-1fa3a067fe9b",
   "metadata": {},
   "outputs": [
    {
     "name": "stdout",
     "output_type": "stream",
     "text": [
      "<PIL.JpegImagePlugin.JpegImageFile image mode=RGB size=384x512 at 0x7F3C15293070>\n"
     ]
    }
   ],
   "source": [
    "print(img)"
   ]
  },
  {
   "cell_type": "markdown",
   "id": "a8ce4a5d-67f0-4ac9-9015-2c9af62bb40e",
   "metadata": {},
   "source": [
    "# train csv 불러오기"
   ]
  },
  {
   "cell_type": "code",
   "execution_count": 128,
   "id": "18304a7a-e914-46fd-9e1a-cd7e7fa0bfe0",
   "metadata": {},
   "outputs": [
    {
     "data": {
      "text/html": [
       "<div>\n",
       "<style scoped>\n",
       "    .dataframe tbody tr th:only-of-type {\n",
       "        vertical-align: middle;\n",
       "    }\n",
       "\n",
       "    .dataframe tbody tr th {\n",
       "        vertical-align: top;\n",
       "    }\n",
       "\n",
       "    .dataframe thead th {\n",
       "        text-align: right;\n",
       "    }\n",
       "</style>\n",
       "<table border=\"1\" class=\"dataframe\">\n",
       "  <thead>\n",
       "    <tr style=\"text-align: right;\">\n",
       "      <th></th>\n",
       "      <th>id</th>\n",
       "      <th>gender</th>\n",
       "      <th>race</th>\n",
       "      <th>age</th>\n",
       "      <th>path</th>\n",
       "    </tr>\n",
       "  </thead>\n",
       "  <tbody>\n",
       "    <tr>\n",
       "      <th>0</th>\n",
       "      <td>000001</td>\n",
       "      <td>female</td>\n",
       "      <td>Asian</td>\n",
       "      <td>45</td>\n",
       "      <td>000001_female_Asian_45</td>\n",
       "    </tr>\n",
       "    <tr>\n",
       "      <th>1</th>\n",
       "      <td>000002</td>\n",
       "      <td>female</td>\n",
       "      <td>Asian</td>\n",
       "      <td>52</td>\n",
       "      <td>000002_female_Asian_52</td>\n",
       "    </tr>\n",
       "    <tr>\n",
       "      <th>2</th>\n",
       "      <td>000004</td>\n",
       "      <td>male</td>\n",
       "      <td>Asian</td>\n",
       "      <td>54</td>\n",
       "      <td>000004_male_Asian_54</td>\n",
       "    </tr>\n",
       "    <tr>\n",
       "      <th>3</th>\n",
       "      <td>000005</td>\n",
       "      <td>female</td>\n",
       "      <td>Asian</td>\n",
       "      <td>58</td>\n",
       "      <td>000005_female_Asian_58</td>\n",
       "    </tr>\n",
       "    <tr>\n",
       "      <th>4</th>\n",
       "      <td>000006</td>\n",
       "      <td>female</td>\n",
       "      <td>Asian</td>\n",
       "      <td>59</td>\n",
       "      <td>000006_female_Asian_59</td>\n",
       "    </tr>\n",
       "    <tr>\n",
       "      <th>...</th>\n",
       "      <td>...</td>\n",
       "      <td>...</td>\n",
       "      <td>...</td>\n",
       "      <td>...</td>\n",
       "      <td>...</td>\n",
       "    </tr>\n",
       "    <tr>\n",
       "      <th>2695</th>\n",
       "      <td>006954</td>\n",
       "      <td>male</td>\n",
       "      <td>Asian</td>\n",
       "      <td>19</td>\n",
       "      <td>006954_male_Asian_19</td>\n",
       "    </tr>\n",
       "    <tr>\n",
       "      <th>2696</th>\n",
       "      <td>006955</td>\n",
       "      <td>male</td>\n",
       "      <td>Asian</td>\n",
       "      <td>19</td>\n",
       "      <td>006955_male_Asian_19</td>\n",
       "    </tr>\n",
       "    <tr>\n",
       "      <th>2697</th>\n",
       "      <td>006956</td>\n",
       "      <td>male</td>\n",
       "      <td>Asian</td>\n",
       "      <td>19</td>\n",
       "      <td>006956_male_Asian_19</td>\n",
       "    </tr>\n",
       "    <tr>\n",
       "      <th>2698</th>\n",
       "      <td>006957</td>\n",
       "      <td>male</td>\n",
       "      <td>Asian</td>\n",
       "      <td>20</td>\n",
       "      <td>006957_male_Asian_20</td>\n",
       "    </tr>\n",
       "    <tr>\n",
       "      <th>2699</th>\n",
       "      <td>006959</td>\n",
       "      <td>male</td>\n",
       "      <td>Asian</td>\n",
       "      <td>19</td>\n",
       "      <td>006959_male_Asian_19</td>\n",
       "    </tr>\n",
       "  </tbody>\n",
       "</table>\n",
       "<p>2700 rows × 5 columns</p>\n",
       "</div>"
      ],
      "text/plain": [
       "          id  gender   race  age                    path\n",
       "0     000001  female  Asian   45  000001_female_Asian_45\n",
       "1     000002  female  Asian   52  000002_female_Asian_52\n",
       "2     000004    male  Asian   54    000004_male_Asian_54\n",
       "3     000005  female  Asian   58  000005_female_Asian_58\n",
       "4     000006  female  Asian   59  000006_female_Asian_59\n",
       "...      ...     ...    ...  ...                     ...\n",
       "2695  006954    male  Asian   19    006954_male_Asian_19\n",
       "2696  006955    male  Asian   19    006955_male_Asian_19\n",
       "2697  006956    male  Asian   19    006956_male_Asian_19\n",
       "2698  006957    male  Asian   20    006957_male_Asian_20\n",
       "2699  006959    male  Asian   19    006959_male_Asian_19\n",
       "\n",
       "[2700 rows x 5 columns]"
      ]
     },
     "execution_count": 128,
     "metadata": {},
     "output_type": "execute_result"
    }
   ],
   "source": [
    "train_df = pd.read_csv('/opt/ml/code/data/train/train.csv')\n",
    "train_df"
   ]
  },
  {
   "cell_type": "code",
   "execution_count": 129,
   "id": "752b861e-1c77-4394-b44e-005110862416",
   "metadata": {},
   "outputs": [
    {
     "name": "stdout",
     "output_type": "stream",
     "text": [
      "<class 'pandas.core.frame.DataFrame'>\n",
      "RangeIndex: 2700 entries, 0 to 2699\n",
      "Data columns (total 5 columns):\n",
      " #   Column  Non-Null Count  Dtype \n",
      "---  ------  --------------  ----- \n",
      " 0   id      2700 non-null   object\n",
      " 1   gender  2700 non-null   object\n",
      " 2   race    2700 non-null   object\n",
      " 3   age     2700 non-null   int64 \n",
      " 4   path    2700 non-null   object\n",
      "dtypes: int64(1), object(4)\n",
      "memory usage: 105.6+ KB\n"
     ]
    }
   ],
   "source": [
    "train_df.info()"
   ]
  },
  {
   "cell_type": "code",
   "execution_count": 130,
   "id": "1f32b044-76b1-4fb7-80c5-3596d60c96f3",
   "metadata": {},
   "outputs": [
    {
     "data": {
      "text/html": [
       "<div>\n",
       "<style scoped>\n",
       "    .dataframe tbody tr th:only-of-type {\n",
       "        vertical-align: middle;\n",
       "    }\n",
       "\n",
       "    .dataframe tbody tr th {\n",
       "        vertical-align: top;\n",
       "    }\n",
       "\n",
       "    .dataframe thead th {\n",
       "        text-align: right;\n",
       "    }\n",
       "</style>\n",
       "<table border=\"1\" class=\"dataframe\">\n",
       "  <thead>\n",
       "    <tr style=\"text-align: right;\">\n",
       "      <th></th>\n",
       "      <th>id</th>\n",
       "      <th>gender</th>\n",
       "      <th>race</th>\n",
       "      <th>age</th>\n",
       "      <th>path</th>\n",
       "    </tr>\n",
       "  </thead>\n",
       "  <tbody>\n",
       "    <tr>\n",
       "      <th>count</th>\n",
       "      <td>2700</td>\n",
       "      <td>2700</td>\n",
       "      <td>2700</td>\n",
       "      <td>2700.000000</td>\n",
       "      <td>2700</td>\n",
       "    </tr>\n",
       "    <tr>\n",
       "      <th>unique</th>\n",
       "      <td>2699</td>\n",
       "      <td>2</td>\n",
       "      <td>1</td>\n",
       "      <td>NaN</td>\n",
       "      <td>2700</td>\n",
       "    </tr>\n",
       "    <tr>\n",
       "      <th>top</th>\n",
       "      <td>003397</td>\n",
       "      <td>female</td>\n",
       "      <td>Asian</td>\n",
       "      <td>NaN</td>\n",
       "      <td>000001_female_Asian_45</td>\n",
       "    </tr>\n",
       "    <tr>\n",
       "      <th>freq</th>\n",
       "      <td>2</td>\n",
       "      <td>1658</td>\n",
       "      <td>2700</td>\n",
       "      <td>NaN</td>\n",
       "      <td>1</td>\n",
       "    </tr>\n",
       "    <tr>\n",
       "      <th>mean</th>\n",
       "      <td>NaN</td>\n",
       "      <td>NaN</td>\n",
       "      <td>NaN</td>\n",
       "      <td>37.708148</td>\n",
       "      <td>NaN</td>\n",
       "    </tr>\n",
       "    <tr>\n",
       "      <th>std</th>\n",
       "      <td>NaN</td>\n",
       "      <td>NaN</td>\n",
       "      <td>NaN</td>\n",
       "      <td>16.985904</td>\n",
       "      <td>NaN</td>\n",
       "    </tr>\n",
       "    <tr>\n",
       "      <th>min</th>\n",
       "      <td>NaN</td>\n",
       "      <td>NaN</td>\n",
       "      <td>NaN</td>\n",
       "      <td>18.000000</td>\n",
       "      <td>NaN</td>\n",
       "    </tr>\n",
       "    <tr>\n",
       "      <th>25%</th>\n",
       "      <td>NaN</td>\n",
       "      <td>NaN</td>\n",
       "      <td>NaN</td>\n",
       "      <td>20.000000</td>\n",
       "      <td>NaN</td>\n",
       "    </tr>\n",
       "    <tr>\n",
       "      <th>50%</th>\n",
       "      <td>NaN</td>\n",
       "      <td>NaN</td>\n",
       "      <td>NaN</td>\n",
       "      <td>36.000000</td>\n",
       "      <td>NaN</td>\n",
       "    </tr>\n",
       "    <tr>\n",
       "      <th>75%</th>\n",
       "      <td>NaN</td>\n",
       "      <td>NaN</td>\n",
       "      <td>NaN</td>\n",
       "      <td>55.000000</td>\n",
       "      <td>NaN</td>\n",
       "    </tr>\n",
       "    <tr>\n",
       "      <th>max</th>\n",
       "      <td>NaN</td>\n",
       "      <td>NaN</td>\n",
       "      <td>NaN</td>\n",
       "      <td>60.000000</td>\n",
       "      <td>NaN</td>\n",
       "    </tr>\n",
       "  </tbody>\n",
       "</table>\n",
       "</div>"
      ],
      "text/plain": [
       "            id  gender   race          age                    path\n",
       "count     2700    2700   2700  2700.000000                    2700\n",
       "unique    2699       2      1          NaN                    2700\n",
       "top     003397  female  Asian          NaN  000001_female_Asian_45\n",
       "freq         2    1658   2700          NaN                       1\n",
       "mean       NaN     NaN    NaN    37.708148                     NaN\n",
       "std        NaN     NaN    NaN    16.985904                     NaN\n",
       "min        NaN     NaN    NaN    18.000000                     NaN\n",
       "25%        NaN     NaN    NaN    20.000000                     NaN\n",
       "50%        NaN     NaN    NaN    36.000000                     NaN\n",
       "75%        NaN     NaN    NaN    55.000000                     NaN\n",
       "max        NaN     NaN    NaN    60.000000                     NaN"
      ]
     },
     "execution_count": 130,
     "metadata": {},
     "output_type": "execute_result"
    }
   ],
   "source": [
    "train_df.describe(include='all')"
   ]
  },
  {
   "cell_type": "code",
   "execution_count": 131,
   "id": "f53d129c-a3b1-4fce-8a43-501cf301c969",
   "metadata": {},
   "outputs": [
    {
     "data": {
      "text/html": [
       "<div>\n",
       "<style scoped>\n",
       "    .dataframe tbody tr th:only-of-type {\n",
       "        vertical-align: middle;\n",
       "    }\n",
       "\n",
       "    .dataframe tbody tr th {\n",
       "        vertical-align: top;\n",
       "    }\n",
       "\n",
       "    .dataframe thead th {\n",
       "        text-align: right;\n",
       "    }\n",
       "</style>\n",
       "<table border=\"1\" class=\"dataframe\">\n",
       "  <thead>\n",
       "    <tr style=\"text-align: right;\">\n",
       "      <th></th>\n",
       "      <th>path</th>\n",
       "      <th>label</th>\n",
       "    </tr>\n",
       "  </thead>\n",
       "  <tbody>\n",
       "    <tr>\n",
       "      <th>0</th>\n",
       "      <td>/opt/ml/code/data/train/images/000001_female_A...</td>\n",
       "      <td>4</td>\n",
       "    </tr>\n",
       "    <tr>\n",
       "      <th>1</th>\n",
       "      <td>/opt/ml/code/data/train/images/000001_female_A...</td>\n",
       "      <td>4</td>\n",
       "    </tr>\n",
       "    <tr>\n",
       "      <th>2</th>\n",
       "      <td>/opt/ml/code/data/train/images/000001_female_A...</td>\n",
       "      <td>4</td>\n",
       "    </tr>\n",
       "    <tr>\n",
       "      <th>3</th>\n",
       "      <td>/opt/ml/code/data/train/images/000001_female_A...</td>\n",
       "      <td>4</td>\n",
       "    </tr>\n",
       "    <tr>\n",
       "      <th>4</th>\n",
       "      <td>/opt/ml/code/data/train/images/000001_female_A...</td>\n",
       "      <td>16</td>\n",
       "    </tr>\n",
       "    <tr>\n",
       "      <th>...</th>\n",
       "      <td>...</td>\n",
       "      <td>...</td>\n",
       "    </tr>\n",
       "    <tr>\n",
       "      <th>18895</th>\n",
       "      <td>/opt/ml/code/data/train/images/006959_male_Asi...</td>\n",
       "      <td>0</td>\n",
       "    </tr>\n",
       "    <tr>\n",
       "      <th>18896</th>\n",
       "      <td>/opt/ml/code/data/train/images/006959_male_Asi...</td>\n",
       "      <td>0</td>\n",
       "    </tr>\n",
       "    <tr>\n",
       "      <th>18897</th>\n",
       "      <td>/opt/ml/code/data/train/images/006959_male_Asi...</td>\n",
       "      <td>12</td>\n",
       "    </tr>\n",
       "    <tr>\n",
       "      <th>18898</th>\n",
       "      <td>/opt/ml/code/data/train/images/006959_male_Asi...</td>\n",
       "      <td>0</td>\n",
       "    </tr>\n",
       "    <tr>\n",
       "      <th>18899</th>\n",
       "      <td>/opt/ml/code/data/train/images/006959_male_Asi...</td>\n",
       "      <td>6</td>\n",
       "    </tr>\n",
       "  </tbody>\n",
       "</table>\n",
       "<p>18900 rows × 2 columns</p>\n",
       "</div>"
      ],
      "text/plain": [
       "                                                    path  label\n",
       "0      /opt/ml/code/data/train/images/000001_female_A...      4\n",
       "1      /opt/ml/code/data/train/images/000001_female_A...      4\n",
       "2      /opt/ml/code/data/train/images/000001_female_A...      4\n",
       "3      /opt/ml/code/data/train/images/000001_female_A...      4\n",
       "4      /opt/ml/code/data/train/images/000001_female_A...     16\n",
       "...                                                  ...    ...\n",
       "18895  /opt/ml/code/data/train/images/006959_male_Asi...      0\n",
       "18896  /opt/ml/code/data/train/images/006959_male_Asi...      0\n",
       "18897  /opt/ml/code/data/train/images/006959_male_Asi...     12\n",
       "18898  /opt/ml/code/data/train/images/006959_male_Asi...      0\n",
       "18899  /opt/ml/code/data/train/images/006959_male_Asi...      6\n",
       "\n",
       "[18900 rows x 2 columns]"
      ]
     },
     "execution_count": 131,
     "metadata": {},
     "output_type": "execute_result"
    }
   ],
   "source": [
    "train_label_df= pd.read_csv('/opt/ml/code/data processing/EDA & Preprocessing/train_label.csv')\n",
    "train_label_df"
   ]
  },
  {
   "cell_type": "markdown",
   "id": "46a2cd5e-f819-447d-b2c6-7e0c4bd79610",
   "metadata": {},
   "source": [
    "# gender별 value counts"
   ]
  },
  {
   "cell_type": "code",
   "execution_count": 132,
   "id": "61fb7281-a4ae-4ef1-8781-d2adca10291d",
   "metadata": {},
   "outputs": [],
   "source": [
    "import seaborn as sns"
   ]
  },
  {
   "cell_type": "code",
   "execution_count": 133,
   "id": "ed51a792-5799-4316-9fc1-7bf6822edcec",
   "metadata": {},
   "outputs": [
    {
     "data": {
      "text/plain": [
       "female    1658\n",
       "male      1042\n",
       "Name: gender, dtype: int64"
      ]
     },
     "metadata": {},
     "output_type": "display_data"
    }
   ],
   "source": [
    "group_gender = train_df['gender'].value_counts()\n",
    "display(group_gender)"
   ]
  },
  {
   "cell_type": "code",
   "execution_count": 134,
   "id": "08caf257-b44d-42d4-b305-45deecc21656",
   "metadata": {},
   "outputs": [
    {
     "data": {
      "text/plain": [
       "(array([   0.,  200.,  400.,  600.,  800., 1000., 1200., 1400., 1600.,\n",
       "        1800.]),\n",
       " [Text(0, 0, ''),\n",
       "  Text(0, 0, ''),\n",
       "  Text(0, 0, ''),\n",
       "  Text(0, 0, ''),\n",
       "  Text(0, 0, ''),\n",
       "  Text(0, 0, ''),\n",
       "  Text(0, 0, ''),\n",
       "  Text(0, 0, ''),\n",
       "  Text(0, 0, ''),\n",
       "  Text(0, 0, '')])"
      ]
     },
     "execution_count": 134,
     "metadata": {},
     "output_type": "execute_result"
    },
    {
     "data": {
      "image/png": "[encoded data removed]",
      "text/plain": [
       "<Figure size 576x576 with 1 Axes>"
      ]
     },
     "metadata": {
      "needs_background": "light"
     },
     "output_type": "display_data"
    }
   ],
   "source": [
    "plt.figure(figsize=(8, 8))\n",
    "colors = sns.color_palette('hls', 2)\n",
    "plt.bar(['male', 'female'], [group_gender['male'], group_gender['female']], color=colors)\n",
    "plt.title('Value counts by gender', fontsize=25)\n",
    "\n",
    "plt.text(x='male', y=group_gender['male'], s=group_gender['male'], fontsize=15, ha='center')\n",
    "plt.text(x='female', y=group_gender['female'], s=group_gender['female'], fontsize=15, ha='center')\n",
    "\n",
    "plt.xlabel('Gender', fontsize=20)\n",
    "plt.ylabel('Value counts', fontsize=20)\n",
    "plt.xticks(fontsize=15)\n",
    "plt.yticks(fontsize=15)"
   ]
  },
  {
   "cell_type": "code",
   "execution_count": 152,
   "id": "e77eb20e-da97-46dc-a7df-b2a02e3a1017",
   "metadata": {},
   "outputs": [
    {
     "data": {
      "text/html": [
       "<div>\n",
       "<style scoped>\n",
       "    .dataframe tbody tr th:only-of-type {\n",
       "        vertical-align: middle;\n",
       "    }\n",
       "\n",
       "    .dataframe tbody tr th {\n",
       "        vertical-align: top;\n",
       "    }\n",
       "\n",
       "    .dataframe thead th {\n",
       "        text-align: right;\n",
       "    }\n",
       "</style>\n",
       "<table border=\"1\" class=\"dataframe\">\n",
       "  <thead>\n",
       "    <tr style=\"text-align: right;\">\n",
       "      <th></th>\n",
       "      <th>value counts</th>\n",
       "    </tr>\n",
       "  </thead>\n",
       "  <tbody>\n",
       "    <tr>\n",
       "      <th>male</th>\n",
       "      <td>1042</td>\n",
       "    </tr>\n",
       "    <tr>\n",
       "      <th>female</th>\n",
       "      <td>1658</td>\n",
       "    </tr>\n",
       "  </tbody>\n",
       "</table>\n",
       "</div>"
      ],
      "text/plain": [
       "        value counts\n",
       "male            1042\n",
       "female          1658"
      ]
     },
     "execution_count": 152,
     "metadata": {},
     "output_type": "execute_result"
    }
   ],
   "source": [
    "pd.DataFrame([group_gender['male'], group_gender['female']], index=['male', 'female'], columns=['value counts'])"
   ]
  },
  {
   "cell_type": "markdown",
   "id": "00d9b0ac-cf25-433b-8d7d-83318d31e546",
   "metadata": {},
   "source": [
    "# 나이대별 value counts"
   ]
  },
  {
   "cell_type": "markdown",
   "id": "f1363c10-699f-4cde-832a-aa0901229494",
   "metadata": {},
   "source": [
    "## 전연령 별로"
   ]
  },
  {
   "cell_type": "code",
   "execution_count": 167,
   "id": "1001b1a0-9c0f-433f-9607-c864f1ea9081",
   "metadata": {},
   "outputs": [],
   "source": [
    "import seaborn as sns"
   ]
  },
  {
   "cell_type": "code",
   "execution_count": 174,
   "id": "9f58bcc3-c712-4481-9a6f-132f470602e4",
   "metadata": {},
   "outputs": [
    {
     "data": {
      "text/plain": [
       "count    2700.000000\n",
       "mean       37.708148\n",
       "std        16.985904\n",
       "min        18.000000\n",
       "25%        20.000000\n",
       "50%        36.000000\n",
       "75%        55.000000\n",
       "max        60.000000\n",
       "Name: age, dtype: float64"
      ]
     },
     "execution_count": 174,
     "metadata": {},
     "output_type": "execute_result"
    }
   ],
   "source": [
    "train_df['age'].describe()"
   ]
  },
  {
   "cell_type": "code",
   "execution_count": 179,
   "id": "41e5b309-f765-447d-8844-d6d946f14ab9",
   "metadata": {},
   "outputs": [
    {
     "data": {
      "text/html": [
       "<div>\n",
       "<style scoped>\n",
       "    .dataframe tbody tr th:only-of-type {\n",
       "        vertical-align: middle;\n",
       "    }\n",
       "\n",
       "    .dataframe tbody tr th {\n",
       "        vertical-align: top;\n",
       "    }\n",
       "\n",
       "    .dataframe thead th {\n",
       "        text-align: right;\n",
       "    }\n",
       "</style>\n",
       "<table border=\"1\" class=\"dataframe\">\n",
       "  <thead>\n",
       "    <tr style=\"text-align: right;\">\n",
       "      <th></th>\n",
       "      <th>id</th>\n",
       "      <th>gender</th>\n",
       "      <th>race</th>\n",
       "      <th>age</th>\n",
       "      <th>path</th>\n",
       "    </tr>\n",
       "  </thead>\n",
       "  <tbody>\n",
       "    <tr>\n",
       "      <th>2467</th>\n",
       "      <td>006440</td>\n",
       "      <td>female</td>\n",
       "      <td>Asian</td>\n",
       "      <td>18</td>\n",
       "      <td>006440_female_Asian_18</td>\n",
       "    </tr>\n",
       "    <tr>\n",
       "      <th>2489</th>\n",
       "      <td>006468</td>\n",
       "      <td>female</td>\n",
       "      <td>Asian</td>\n",
       "      <td>18</td>\n",
       "      <td>006468_female_Asian_18</td>\n",
       "    </tr>\n",
       "    <tr>\n",
       "      <th>2488</th>\n",
       "      <td>006467</td>\n",
       "      <td>female</td>\n",
       "      <td>Asian</td>\n",
       "      <td>18</td>\n",
       "      <td>006467_female_Asian_18</td>\n",
       "    </tr>\n",
       "    <tr>\n",
       "      <th>2487</th>\n",
       "      <td>006466</td>\n",
       "      <td>female</td>\n",
       "      <td>Asian</td>\n",
       "      <td>18</td>\n",
       "      <td>006466_female_Asian_18</td>\n",
       "    </tr>\n",
       "    <tr>\n",
       "      <th>2486</th>\n",
       "      <td>006465</td>\n",
       "      <td>female</td>\n",
       "      <td>Asian</td>\n",
       "      <td>18</td>\n",
       "      <td>006465_female_Asian_18</td>\n",
       "    </tr>\n",
       "    <tr>\n",
       "      <th>...</th>\n",
       "      <td>...</td>\n",
       "      <td>...</td>\n",
       "      <td>...</td>\n",
       "      <td>...</td>\n",
       "      <td>...</td>\n",
       "    </tr>\n",
       "    <tr>\n",
       "      <th>1053</th>\n",
       "      <td>001920</td>\n",
       "      <td>female</td>\n",
       "      <td>Asian</td>\n",
       "      <td>60</td>\n",
       "      <td>001920_female_Asian_60</td>\n",
       "    </tr>\n",
       "    <tr>\n",
       "      <th>1564</th>\n",
       "      <td>003718</td>\n",
       "      <td>female</td>\n",
       "      <td>Asian</td>\n",
       "      <td>60</td>\n",
       "      <td>003718_female_Asian_60</td>\n",
       "    </tr>\n",
       "    <tr>\n",
       "      <th>1565</th>\n",
       "      <td>003719</td>\n",
       "      <td>male</td>\n",
       "      <td>Asian</td>\n",
       "      <td>60</td>\n",
       "      <td>003719_male_Asian_60</td>\n",
       "    </tr>\n",
       "    <tr>\n",
       "      <th>543</th>\n",
       "      <td>001175</td>\n",
       "      <td>male</td>\n",
       "      <td>Asian</td>\n",
       "      <td>60</td>\n",
       "      <td>001175_male_Asian_60</td>\n",
       "    </tr>\n",
       "    <tr>\n",
       "      <th>1461</th>\n",
       "      <td>003528</td>\n",
       "      <td>male</td>\n",
       "      <td>Asian</td>\n",
       "      <td>60</td>\n",
       "      <td>003528_male_Asian_60</td>\n",
       "    </tr>\n",
       "  </tbody>\n",
       "</table>\n",
       "<p>2700 rows × 5 columns</p>\n",
       "</div>"
      ],
      "text/plain": [
       "          id  gender   race  age                    path\n",
       "2467  006440  female  Asian   18  006440_female_Asian_18\n",
       "2489  006468  female  Asian   18  006468_female_Asian_18\n",
       "2488  006467  female  Asian   18  006467_female_Asian_18\n",
       "2487  006466  female  Asian   18  006466_female_Asian_18\n",
       "2486  006465  female  Asian   18  006465_female_Asian_18\n",
       "...      ...     ...    ...  ...                     ...\n",
       "1053  001920  female  Asian   60  001920_female_Asian_60\n",
       "1564  003718  female  Asian   60  003718_female_Asian_60\n",
       "1565  003719    male  Asian   60    003719_male_Asian_60\n",
       "543   001175    male  Asian   60    001175_male_Asian_60\n",
       "1461  003528    male  Asian   60    003528_male_Asian_60\n",
       "\n",
       "[2700 rows x 5 columns]"
      ]
     },
     "execution_count": 179,
     "metadata": {},
     "output_type": "execute_result"
    }
   ],
   "source": [
    "train_df.sort_values(by='age')"
   ]
  },
  {
   "cell_type": "code",
   "execution_count": 187,
   "id": "6fae7b78-0b29-4e0a-a228-162dfda0d96c",
   "metadata": {},
   "outputs": [
    {
     "data": {
      "image/png": "[encoded data removed]",
      "text/plain": [
       "<Figure size 864x576 with 1 Axes>"
      ]
     },
     "metadata": {
      "needs_background": "light"
     },
     "output_type": "display_data"
    }
   ],
   "source": [
    "plt.figure(figsize=(12, 8))\n",
    "sns.kdeplot(train_df['age'], fill=True, bw_method=0.02)\n",
    "plt.title('Age', fontsize=25)\n",
    "plt.xlabel('Age', fontsize=20)\n",
    "plt.ylabel('Density', fontsize=20)\n",
    "plt.xticks(fontsize=15)\n",
    "plt.yticks(fontsize=15)\n",
    "plt.show()"
   ]
  },
  {
   "cell_type": "markdown",
   "id": "bc13fb8f-8e3b-4c5b-867d-1da36b4a6e00",
   "metadata": {
    "tags": []
   },
   "source": [
    "## 전연령대별 성별 "
   ]
  },
  {
   "cell_type": "code",
   "execution_count": 219,
   "id": "1d7492ff-b7e8-48f7-860b-a9e757910bb2",
   "metadata": {},
   "outputs": [
    {
     "data": {
      "text/html": [
       "<div>\n",
       "<style scoped>\n",
       "    .dataframe tbody tr th:only-of-type {\n",
       "        vertical-align: middle;\n",
       "    }\n",
       "\n",
       "    .dataframe tbody tr th {\n",
       "        vertical-align: top;\n",
       "    }\n",
       "\n",
       "    .dataframe thead th {\n",
       "        text-align: right;\n",
       "    }\n",
       "</style>\n",
       "<table border=\"1\" class=\"dataframe\">\n",
       "  <thead>\n",
       "    <tr style=\"text-align: right;\">\n",
       "      <th></th>\n",
       "      <th>count</th>\n",
       "      <th>mean</th>\n",
       "      <th>std</th>\n",
       "      <th>min</th>\n",
       "      <th>25%</th>\n",
       "      <th>50%</th>\n",
       "      <th>75%</th>\n",
       "      <th>max</th>\n",
       "    </tr>\n",
       "    <tr>\n",
       "      <th>gender</th>\n",
       "      <th></th>\n",
       "      <th></th>\n",
       "      <th></th>\n",
       "      <th></th>\n",
       "      <th></th>\n",
       "      <th></th>\n",
       "      <th></th>\n",
       "      <th></th>\n",
       "    </tr>\n",
       "  </thead>\n",
       "  <tbody>\n",
       "    <tr>\n",
       "      <th>female</th>\n",
       "      <td>1658.0</td>\n",
       "      <td>38.528347</td>\n",
       "      <td>16.888379</td>\n",
       "      <td>18.0</td>\n",
       "      <td>20.0</td>\n",
       "      <td>44.0</td>\n",
       "      <td>55.0</td>\n",
       "      <td>60.0</td>\n",
       "    </tr>\n",
       "    <tr>\n",
       "      <th>male</th>\n",
       "      <td>1042.0</td>\n",
       "      <td>36.403071</td>\n",
       "      <td>17.066934</td>\n",
       "      <td>18.0</td>\n",
       "      <td>20.0</td>\n",
       "      <td>26.0</td>\n",
       "      <td>56.0</td>\n",
       "      <td>60.0</td>\n",
       "    </tr>\n",
       "  </tbody>\n",
       "</table>\n",
       "</div>"
      ],
      "text/plain": [
       "         count       mean        std   min   25%   50%   75%   max\n",
       "gender                                                            \n",
       "female  1658.0  38.528347  16.888379  18.0  20.0  44.0  55.0  60.0\n",
       "male    1042.0  36.403071  17.066934  18.0  20.0  26.0  56.0  60.0"
      ]
     },
     "execution_count": 219,
     "metadata": {},
     "output_type": "execute_result"
    }
   ],
   "source": [
    "train_df.groupby('gender')['age'].describe()"
   ]
  },
  {
   "cell_type": "code",
   "execution_count": 322,
   "id": "df79f229-bbfd-4b15-81d5-f1c0f250787f",
   "metadata": {},
   "outputs": [
    {
     "data": {
      "image/png": "[encoded data removed]",
      "text/plain": [
       "<Figure size 864x576 with 1 Axes>"
      ]
     },
     "metadata": {
      "needs_background": "light"
     },
     "output_type": "display_data"
    }
   ],
   "source": [
    "plt.figure(figsize=(12, 8))\n",
    "ax = sns.kdeplot(x='age', data=train_df, fill=True, bw_method=0.02,  hue='gender', hue_order=sorted(train_df['gender'].unique(), reverse=True))\n",
    "plt.title('Ages by gender', fontsize=25)\n",
    "plt.xlabel('Ages', fontsize=20)\n",
    "plt.ylabel('Density', fontsize=20)\n",
    "plt.xticks(fontsize=15)\n",
    "plt.yticks(fontsize=15)\n",
    "plt.setp(ax.get_legend().get_texts(), fontsize='15') # for legend text\n",
    "plt.setp(ax.get_legend().get_title(), fontsize='15') # for legend title\n",
    "plt.show()"
   ]
  },
  {
   "cell_type": "markdown",
   "id": "b14cc85c-def7-4076-a221-c068129a080c",
   "metadata": {},
   "source": [
    "## 연령대 class 별로"
   ]
  },
  {
   "cell_type": "code",
   "execution_count": 251,
   "id": "0d11fa3e-7596-4332-a1d3-11a2585a7d51",
   "metadata": {},
   "outputs": [],
   "source": [
    "train_df['age_class'] = \"\""
   ]
  },
  {
   "cell_type": "code",
   "execution_count": 149,
   "id": "989e2a1f-8b17-4ccd-af85-07e28778e649",
   "metadata": {},
   "outputs": [
    {
     "data": {
      "text/html": [
       "<div>\n",
       "<style scoped>\n",
       "    .dataframe tbody tr th:only-of-type {\n",
       "        vertical-align: middle;\n",
       "    }\n",
       "\n",
       "    .dataframe tbody tr th {\n",
       "        vertical-align: top;\n",
       "    }\n",
       "\n",
       "    .dataframe thead th {\n",
       "        text-align: right;\n",
       "    }\n",
       "</style>\n",
       "<table border=\"1\" class=\"dataframe\">\n",
       "  <thead>\n",
       "    <tr style=\"text-align: right;\">\n",
       "      <th></th>\n",
       "      <th>value counts</th>\n",
       "    </tr>\n",
       "  </thead>\n",
       "  <tbody>\n",
       "    <tr>\n",
       "      <th>&lt;30</th>\n",
       "      <td>1281</td>\n",
       "    </tr>\n",
       "    <tr>\n",
       "      <th>&gt;=30 and &lt; 60</th>\n",
       "      <td>1227</td>\n",
       "    </tr>\n",
       "    <tr>\n",
       "      <th>&gt;=60</th>\n",
       "      <td>192</td>\n",
       "    </tr>\n",
       "  </tbody>\n",
       "</table>\n",
       "</div>"
      ],
      "text/plain": [
       "               value counts\n",
       "<30                    1281\n",
       ">=30 and < 60          1227\n",
       ">=60                    192"
      ]
     },
     "execution_count": 149,
     "metadata": {},
     "output_type": "execute_result"
    }
   ],
   "source": [
    "pd.DataFrame(y_ages, index = x_ages, columns =['value counts'])"
   ]
  },
  {
   "cell_type": "code",
   "execution_count": 323,
   "id": "0d53e888-c6e4-4120-9474-d396db06de29",
   "metadata": {},
   "outputs": [
    {
     "name": "stderr",
     "output_type": "stream",
     "text": [
      "/tmp/ipykernel_2212/240626329.py:5: SettingWithCopyWarning: \n",
      "A value is trying to be set on a copy of a slice from a DataFrame\n",
      "\n",
      "See the caveats in the documentation: https://pandas.pydata.org/pandas-docs/stable/user_guide/indexing.html#returning-a-view-versus-a-copy\n",
      "  else : train_df['age_class'].iloc[i] = '>=30 and < 60'\n",
      "/tmp/ipykernel_2212/240626329.py:3: SettingWithCopyWarning: \n",
      "A value is trying to be set on a copy of a slice from a DataFrame\n",
      "\n",
      "See the caveats in the documentation: https://pandas.pydata.org/pandas-docs/stable/user_guide/indexing.html#returning-a-view-versus-a-copy\n",
      "  if train_df.iloc[i]['age'] < 30 : train_df['age_class'].iloc[i] = '<30'\n",
      "/tmp/ipykernel_2212/240626329.py:4: SettingWithCopyWarning: \n",
      "A value is trying to be set on a copy of a slice from a DataFrame\n",
      "\n",
      "See the caveats in the documentation: https://pandas.pydata.org/pandas-docs/stable/user_guide/indexing.html#returning-a-view-versus-a-copy\n",
      "  elif train_df.iloc[i]['age'] >= 60 : train_df['age_class'].iloc[i] = '>=60'\n"
     ]
    },
    {
     "data": {
      "text/plain": [
       "<Figure size 576x576 with 0 Axes>"
      ]
     },
     "metadata": {},
     "output_type": "display_data"
    }
   ],
   "source": [
    "plt.figure(figsize=(8, 8))\n",
    "for i in range(len(train_df)):\n",
    "    if train_df.iloc[i]['age'] < 30 : train_df['age_class'].iloc[i] = '<30'\n",
    "    elif train_df.iloc[i]['age'] >= 60 : train_df['age_class'].iloc[i] = '>=60'\n",
    "    else : train_df['age_class'].iloc[i] = '>=30 and < 60'"
   ]
  },
  {
   "cell_type": "code",
   "execution_count": 324,
   "id": "803e1ec7-c9cb-4a37-ab24-26a71d08e234",
   "metadata": {},
   "outputs": [
    {
     "data": {
      "text/plain": [
       "age_class\n",
       "<30              1281\n",
       ">=30 and < 60    1227\n",
       ">=60              192\n",
       "Name: id, dtype: int64"
      ]
     },
     "execution_count": 324,
     "metadata": {},
     "output_type": "execute_result"
    }
   ],
   "source": [
    "train_df.groupby('age_class')['id'].count()"
   ]
  },
  {
   "cell_type": "code",
   "execution_count": null,
   "id": "ea6d3920-c6da-4c27-9a69-ef2a672f73cc",
   "metadata": {},
   "outputs": [
    {
     "data": {
      "text/plain": [
       "(array([   0.,  200.,  400.,  600.,  800., 1000., 1200., 1400.]),\n",
       " [Text(0, 0, ''),\n",
       "  Text(0, 0, ''),\n",
       "  Text(0, 0, ''),\n",
       "  Text(0, 0, ''),\n",
       "  Text(0, 0, ''),\n",
       "  Text(0, 0, ''),\n",
       "  Text(0, 0, ''),\n",
       "  Text(0, 0, '')])"
      ]
     },
     "execution_count": 328,
     "metadata": {},
     "output_type": "execute_result"
    },
    {
     "data": {
      "image/png": "[encoded data removed]",
      "text/plain": [
       "<Figure size 864x576 with 1 Axes>"
      ]
     },
     "metadata": {
      "needs_background": "light"
     },
     "output_type": "display_data"
    }
   ],
   "source": [
    "x_ages = ['<30', '>30 and < 60', '>=60']\n",
    "y_ages = train_df.groupby('age_class')['id'].count()\n",
    "\n",
    "plt.figure(figsize=(12, 8))\n",
    "colors = sns.color_palette('hls', 3)\n",
    "plt.bar(x_ages, y_ages, color=colors)\n",
    "plt.title('Value counts by age classes', fontsize=25)\n",
    "for x, y in zip(x_ages, y_ages):\n",
    "    plt.text(x=x, y=y, s=count, fontsize=15, ha='center')\n",
    "plt.xlabel('Age classes', fontsize=20)\n",
    "plt.ylabel('Value counts', fontsize=20)\n",
    "plt.xticks(fontsize=15)\n",
    "plt.yticks(fontsize=15)"
   ]
  },
  {
   "cell_type": "markdown",
   "id": "f3c65c98-3950-4991-b70d-d402ac809eb1",
   "metadata": {},
   "source": [
    "# 연령대 Class별 성별"
   ]
  },
  {
   "cell_type": "code",
   "execution_count": 326,
   "id": "bead1796-fd9a-49d6-81fa-3db6e29cf776",
   "metadata": {},
   "outputs": [
    {
     "data": {
      "text/html": [
       "<div>\n",
       "<style scoped>\n",
       "    .dataframe tbody tr th:only-of-type {\n",
       "        vertical-align: middle;\n",
       "    }\n",
       "\n",
       "    .dataframe tbody tr th {\n",
       "        vertical-align: top;\n",
       "    }\n",
       "\n",
       "    .dataframe thead th {\n",
       "        text-align: right;\n",
       "    }\n",
       "</style>\n",
       "<table border=\"1\" class=\"dataframe\">\n",
       "  <thead>\n",
       "    <tr style=\"text-align: right;\">\n",
       "      <th></th>\n",
       "      <th></th>\n",
       "      <th>id</th>\n",
       "      <th>race</th>\n",
       "      <th>age</th>\n",
       "      <th>path</th>\n",
       "    </tr>\n",
       "    <tr>\n",
       "      <th>age_class</th>\n",
       "      <th>gender</th>\n",
       "      <th></th>\n",
       "      <th></th>\n",
       "      <th></th>\n",
       "      <th></th>\n",
       "    </tr>\n",
       "  </thead>\n",
       "  <tbody>\n",
       "    <tr>\n",
       "      <th rowspan=\"2\" valign=\"top\">&lt;30</th>\n",
       "      <th>female</th>\n",
       "      <td>732</td>\n",
       "      <td>732</td>\n",
       "      <td>732</td>\n",
       "      <td>732</td>\n",
       "    </tr>\n",
       "    <tr>\n",
       "      <th>male</th>\n",
       "      <td>549</td>\n",
       "      <td>549</td>\n",
       "      <td>549</td>\n",
       "      <td>549</td>\n",
       "    </tr>\n",
       "    <tr>\n",
       "      <th rowspan=\"2\" valign=\"top\">&gt;=30 and &lt; 60</th>\n",
       "      <th>female</th>\n",
       "      <td>817</td>\n",
       "      <td>817</td>\n",
       "      <td>817</td>\n",
       "      <td>817</td>\n",
       "    </tr>\n",
       "    <tr>\n",
       "      <th>male</th>\n",
       "      <td>410</td>\n",
       "      <td>410</td>\n",
       "      <td>410</td>\n",
       "      <td>410</td>\n",
       "    </tr>\n",
       "    <tr>\n",
       "      <th rowspan=\"2\" valign=\"top\">&gt;=60</th>\n",
       "      <th>female</th>\n",
       "      <td>109</td>\n",
       "      <td>109</td>\n",
       "      <td>109</td>\n",
       "      <td>109</td>\n",
       "    </tr>\n",
       "    <tr>\n",
       "      <th>male</th>\n",
       "      <td>83</td>\n",
       "      <td>83</td>\n",
       "      <td>83</td>\n",
       "      <td>83</td>\n",
       "    </tr>\n",
       "  </tbody>\n",
       "</table>\n",
       "</div>"
      ],
      "text/plain": [
       "                       id  race  age  path\n",
       "age_class     gender                      \n",
       "<30           female  732   732  732   732\n",
       "              male    549   549  549   549\n",
       ">=30 and < 60 female  817   817  817   817\n",
       "              male    410   410  410   410\n",
       ">=60          female  109   109  109   109\n",
       "              male     83    83   83    83"
      ]
     },
     "execution_count": 326,
     "metadata": {},
     "output_type": "execute_result"
    }
   ],
   "source": [
    "train_df.groupby(['age_class', 'gender']).count()"
   ]
  },
  {
   "cell_type": "code",
   "execution_count": 333,
   "id": "6059baeb-f309-475e-a822-b9c27a75e05a",
   "metadata": {},
   "outputs": [
    {
     "data": {
      "text/plain": [
       "[None, None]"
      ]
     },
     "execution_count": 333,
     "metadata": {},
     "output_type": "execute_result"
    },
    {
     "data": {
      "image/png": "[encoded data removed]",
      "text/plain": [
       "<Figure size 864x576 with 1 Axes>"
      ]
     },
     "metadata": {
      "needs_background": "light"
     },
     "output_type": "display_data"
    }
   ],
   "source": [
    "plt.figure(figsize=(12, 8))\n",
    "ax = sns.countplot(x='age_class', data=train_df, hue='gender', palette='hls')\n",
    "plt.title('Age clases by gender', fontsize=25)\n",
    "plt.xlabel('Age classes', fontsize=20)\n",
    "plt.ylabel('Value counts by gender', fontsize=20)\n",
    "plt.xticks(fontsize=15)\n",
    "plt.yticks(fontsize=15)\n",
    "plt.setp(ax.get_legend().get_texts(), fontsize='15') # for legend text\n",
    "plt.setp(ax.get_legend().get_title(), fontsize='15') # for legend title"
   ]
  },
  {
   "cell_type": "markdown",
   "id": "0505eed6-dffe-4757-a750-1141206315b9",
   "metadata": {},
   "source": [
    "# Class 별 value counts"
   ]
  },
  {
   "cell_type": "code",
   "execution_count": 166,
   "id": "cd146bc3-e5a3-47d0-bf0b-77fad726c84b",
   "metadata": {},
   "outputs": [
    {
     "data": {
      "text/html": [
       "<div>\n",
       "<style scoped>\n",
       "    .dataframe tbody tr th:only-of-type {\n",
       "        vertical-align: middle;\n",
       "    }\n",
       "\n",
       "    .dataframe tbody tr th {\n",
       "        vertical-align: top;\n",
       "    }\n",
       "\n",
       "    .dataframe thead th {\n",
       "        text-align: right;\n",
       "    }\n",
       "</style>\n",
       "<table border=\"1\" class=\"dataframe\">\n",
       "  <thead>\n",
       "    <tr style=\"text-align: right;\">\n",
       "      <th></th>\n",
       "      <th>label</th>\n",
       "    </tr>\n",
       "  </thead>\n",
       "  <tbody>\n",
       "    <tr>\n",
       "      <th>0</th>\n",
       "      <td>2745</td>\n",
       "    </tr>\n",
       "    <tr>\n",
       "      <th>1</th>\n",
       "      <td>2050</td>\n",
       "    </tr>\n",
       "    <tr>\n",
       "      <th>2</th>\n",
       "      <td>415</td>\n",
       "    </tr>\n",
       "    <tr>\n",
       "      <th>3</th>\n",
       "      <td>3660</td>\n",
       "    </tr>\n",
       "    <tr>\n",
       "      <th>4</th>\n",
       "      <td>4085</td>\n",
       "    </tr>\n",
       "    <tr>\n",
       "      <th>5</th>\n",
       "      <td>545</td>\n",
       "    </tr>\n",
       "    <tr>\n",
       "      <th>6</th>\n",
       "      <td>549</td>\n",
       "    </tr>\n",
       "    <tr>\n",
       "      <th>7</th>\n",
       "      <td>410</td>\n",
       "    </tr>\n",
       "    <tr>\n",
       "      <th>8</th>\n",
       "      <td>83</td>\n",
       "    </tr>\n",
       "    <tr>\n",
       "      <th>9</th>\n",
       "      <td>732</td>\n",
       "    </tr>\n",
       "    <tr>\n",
       "      <th>10</th>\n",
       "      <td>817</td>\n",
       "    </tr>\n",
       "    <tr>\n",
       "      <th>11</th>\n",
       "      <td>109</td>\n",
       "    </tr>\n",
       "    <tr>\n",
       "      <th>12</th>\n",
       "      <td>549</td>\n",
       "    </tr>\n",
       "    <tr>\n",
       "      <th>13</th>\n",
       "      <td>410</td>\n",
       "    </tr>\n",
       "    <tr>\n",
       "      <th>14</th>\n",
       "      <td>83</td>\n",
       "    </tr>\n",
       "    <tr>\n",
       "      <th>15</th>\n",
       "      <td>732</td>\n",
       "    </tr>\n",
       "    <tr>\n",
       "      <th>16</th>\n",
       "      <td>817</td>\n",
       "    </tr>\n",
       "    <tr>\n",
       "      <th>17</th>\n",
       "      <td>109</td>\n",
       "    </tr>\n",
       "  </tbody>\n",
       "</table>\n",
       "</div>"
      ],
      "text/plain": [
       "    label\n",
       "0    2745\n",
       "1    2050\n",
       "2     415\n",
       "3    3660\n",
       "4    4085\n",
       "5     545\n",
       "6     549\n",
       "7     410\n",
       "8      83\n",
       "9     732\n",
       "10    817\n",
       "11    109\n",
       "12    549\n",
       "13    410\n",
       "14     83\n",
       "15    732\n",
       "16    817\n",
       "17    109"
      ]
     },
     "execution_count": 166,
     "metadata": {},
     "output_type": "execute_result"
    }
   ],
   "source": [
    "pd.DataFrame(y_classes)"
   ]
  },
  {
   "cell_type": "code",
   "execution_count": 158,
   "id": "121ef96a-3c2b-4e45-b26f-5733fab93981",
   "metadata": {},
   "outputs": [
    {
     "data": {
      "text/plain": [
       "(array([   0.,  500., 1000., 1500., 2000., 2500., 3000., 3500., 4000.,\n",
       "        4500.]),\n",
       " [Text(0, 0, ''),\n",
       "  Text(0, 0, ''),\n",
       "  Text(0, 0, ''),\n",
       "  Text(0, 0, ''),\n",
       "  Text(0, 0, ''),\n",
       "  Text(0, 0, ''),\n",
       "  Text(0, 0, ''),\n",
       "  Text(0, 0, ''),\n",
       "  Text(0, 0, ''),\n",
       "  Text(0, 0, '')])"
      ]
     },
     "execution_count": 158,
     "metadata": {},
     "output_type": "execute_result"
    },
    {
     "data": {
      "image/png": "[encoded data removed]",
      "text/plain": [
       "<Figure size 2160x720 with 1 Axes>"
      ]
     },
     "metadata": {
      "needs_background": "light"
     },
     "output_type": "display_data"
    }
   ],
   "source": [
    "sequential_cm_list = ['Greys', 'Purples', 'Blues', 'Greens', 'Oranges', 'Reds',\n",
    "            'YlOrBr', 'YlOrRd', 'OrRd', 'PuRd', 'RdPu', 'BuPu',\n",
    "            'GnBu', 'PuBu', 'YlGnBu', 'PuBuGn', 'BuGn', 'YlGn']\n",
    "x_classes = sorted(train_label_df['label'].unique())\n",
    "y_classes = train_label_df['label'].value_counts().sort_index()\n",
    "\n",
    "plt.figure(figsize=(30, 10))\n",
    "colors = sns.color_palette('hls', 17)\n",
    "plt.bar(x_classes, y_classes, color=colors)\n",
    "plt.title('Value counts by classes', fontsize=25)\n",
    "for x, y in zip(x_classes, y_classes):\n",
    "    plt.text(x=x, y=y, s=y, fontsize=15, ha='center')\n",
    "plt.xlabel('Classes', fontsize=20)\n",
    "plt.ylabel('Value counts', fontsize=20)\n",
    "plt.xticks(sorted(train_label_df['label'].unique()), fontsize=15)\n",
    "plt.yticks(fontsize=15)"
   ]
  },
  {
   "cell_type": "code",
   "execution_count": 160,
   "id": "c3375e1d-d663-4a33-8ecb-f08a9941872f",
   "metadata": {},
   "outputs": [
    {
     "data": {
      "text/plain": [
       "0     2745\n",
       "1     2050\n",
       "2      415\n",
       "3     3660\n",
       "4     4085\n",
       "5      545\n",
       "6      549\n",
       "7      410\n",
       "8       83\n",
       "9      732\n",
       "10     817\n",
       "11     109\n",
       "12     549\n",
       "13     410\n",
       "14      83\n",
       "15     732\n",
       "16     817\n",
       "17     109\n",
       "Name: label, dtype: int64"
      ]
     },
     "execution_count": 160,
     "metadata": {},
     "output_type": "execute_result"
    }
   ],
   "source": [
    "y_classes"
   ]
  },
  {
   "cell_type": "code",
   "execution_count": null,
   "id": "3bfea7b0-290d-420e-9c9f-d961b606cf29",
   "metadata": {},
   "outputs": [],
   "source": []
  }
 ],
 "metadata": {
  "kernelspec": {
   "display_name": "Python 3 (ipykernel)",
   "language": "python",
   "name": "python3"
  },
  "language_info": {
   "codemirror_mode": {
    "name": "ipython",
    "version": 3
   },
   "file_extension": ".py",
   "mimetype": "text/x-python",
   "name": "python",
   "nbconvert_exporter": "python",
   "pygments_lexer": "ipython3",
   "version": "3.8.5"
  }
 },
 "nbformat": 4,
 "nbformat_minor": 5
}
