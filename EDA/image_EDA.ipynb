{
 "cells": [
  {
   "cell_type": "code",
   "execution_count": 1,
   "id": "97c7f264-74ad-42b3-bcd8-dd3340815f99",
   "metadata": {},
   "outputs": [],
   "source": [
    "import numpy as np\n",
    "import pandas as pd\n",
    "import matplotlib as mpl\n",
    "import matplotlib.pyplot as plt\n",
    "from PIL import Image"
   ]
  },
  {
   "cell_type": "code",
   "execution_count": 32,
   "id": "1d7d5e78-35e6-427c-a5f6-b13067c6d96b",
   "metadata": {},
   "outputs": [],
   "source": [
    "pd.set_option('display.max.colwidth', 100)"
   ]
  },
  {
   "cell_type": "code",
   "execution_count": 3,
   "id": "0330dd4b-cc34-4b02-a85c-3e834a9c9ed7",
   "metadata": {},
   "outputs": [
    {
     "name": "stdout",
     "output_type": "stream",
     "text": [
      "/opt/ml/code/data processing/EDA & Preprocessing\n"
     ]
    }
   ],
   "source": [
    "!pwd"
   ]
  },
  {
   "cell_type": "markdown",
   "id": "8f950baa-3427-4ac6-aefb-7e4ca3e07bac",
   "metadata": {},
   "source": [
    "# train image csv 불러오기"
   ]
  },
  {
   "cell_type": "code",
   "execution_count": 5,
   "id": "623df502-fcda-4ef4-892f-1c9380ed6056",
   "metadata": {},
   "outputs": [
    {
     "data": {
      "text/html": [
       "<div>\n",
       "<style scoped>\n",
       "    .dataframe tbody tr th:only-of-type {\n",
       "        vertical-align: middle;\n",
       "    }\n",
       "\n",
       "    .dataframe tbody tr th {\n",
       "        vertical-align: top;\n",
       "    }\n",
       "\n",
       "    .dataframe thead th {\n",
       "        text-align: right;\n",
       "    }\n",
       "</style>\n",
       "<table border=\"1\" class=\"dataframe\">\n",
       "  <thead>\n",
       "    <tr style=\"text-align: right;\">\n",
       "      <th></th>\n",
       "      <th>path</th>\n",
       "      <th>width</th>\n",
       "      <th>height</th>\n",
       "      <th>volume</th>\n",
       "      <th>channel</th>\n",
       "    </tr>\n",
       "  </thead>\n",
       "  <tbody>\n",
       "    <tr>\n",
       "      <th>0</th>\n",
       "      <td>/opt/ml/code/data/train/images/000001_female_A...</td>\n",
       "      <td>384</td>\n",
       "      <td>512</td>\n",
       "      <td>25111</td>\n",
       "      <td>3.0</td>\n",
       "    </tr>\n",
       "    <tr>\n",
       "      <th>1</th>\n",
       "      <td>/opt/ml/code/data/train/images/000001_female_A...</td>\n",
       "      <td>384</td>\n",
       "      <td>512</td>\n",
       "      <td>25623</td>\n",
       "      <td>3.0</td>\n",
       "    </tr>\n",
       "    <tr>\n",
       "      <th>2</th>\n",
       "      <td>/opt/ml/code/data/train/images/000001_female_A...</td>\n",
       "      <td>384</td>\n",
       "      <td>512</td>\n",
       "      <td>23873</td>\n",
       "      <td>3.0</td>\n",
       "    </tr>\n",
       "    <tr>\n",
       "      <th>3</th>\n",
       "      <td>/opt/ml/code/data/train/images/000001_female_A...</td>\n",
       "      <td>384</td>\n",
       "      <td>512</td>\n",
       "      <td>24410</td>\n",
       "      <td>3.0</td>\n",
       "    </tr>\n",
       "    <tr>\n",
       "      <th>4</th>\n",
       "      <td>/opt/ml/code/data/train/images/000001_female_A...</td>\n",
       "      <td>384</td>\n",
       "      <td>512</td>\n",
       "      <td>22446</td>\n",
       "      <td>3.0</td>\n",
       "    </tr>\n",
       "    <tr>\n",
       "      <th>...</th>\n",
       "      <td>...</td>\n",
       "      <td>...</td>\n",
       "      <td>...</td>\n",
       "      <td>...</td>\n",
       "      <td>...</td>\n",
       "    </tr>\n",
       "    <tr>\n",
       "      <th>18895</th>\n",
       "      <td>/opt/ml/code/data/train/images/006959_male_Asi...</td>\n",
       "      <td>384</td>\n",
       "      <td>512</td>\n",
       "      <td>16943</td>\n",
       "      <td>3.0</td>\n",
       "    </tr>\n",
       "    <tr>\n",
       "      <th>18896</th>\n",
       "      <td>/opt/ml/code/data/train/images/006959_male_Asi...</td>\n",
       "      <td>384</td>\n",
       "      <td>512</td>\n",
       "      <td>16901</td>\n",
       "      <td>3.0</td>\n",
       "    </tr>\n",
       "    <tr>\n",
       "      <th>18897</th>\n",
       "      <td>/opt/ml/code/data/train/images/006959_male_Asi...</td>\n",
       "      <td>384</td>\n",
       "      <td>512</td>\n",
       "      <td>17146</td>\n",
       "      <td>3.0</td>\n",
       "    </tr>\n",
       "    <tr>\n",
       "      <th>18898</th>\n",
       "      <td>/opt/ml/code/data/train/images/006959_male_Asi...</td>\n",
       "      <td>384</td>\n",
       "      <td>512</td>\n",
       "      <td>18729</td>\n",
       "      <td>3.0</td>\n",
       "    </tr>\n",
       "    <tr>\n",
       "      <th>18899</th>\n",
       "      <td>/opt/ml/code/data/train/images/006959_male_Asi...</td>\n",
       "      <td>384</td>\n",
       "      <td>512</td>\n",
       "      <td>17280</td>\n",
       "      <td>3.0</td>\n",
       "    </tr>\n",
       "  </tbody>\n",
       "</table>\n",
       "<p>18900 rows × 5 columns</p>\n",
       "</div>"
      ],
      "text/plain": [
       "                                                    path  width  height  \\\n",
       "0      /opt/ml/code/data/train/images/000001_female_A...    384     512   \n",
       "1      /opt/ml/code/data/train/images/000001_female_A...    384     512   \n",
       "2      /opt/ml/code/data/train/images/000001_female_A...    384     512   \n",
       "3      /opt/ml/code/data/train/images/000001_female_A...    384     512   \n",
       "4      /opt/ml/code/data/train/images/000001_female_A...    384     512   \n",
       "...                                                  ...    ...     ...   \n",
       "18895  /opt/ml/code/data/train/images/006959_male_Asi...    384     512   \n",
       "18896  /opt/ml/code/data/train/images/006959_male_Asi...    384     512   \n",
       "18897  /opt/ml/code/data/train/images/006959_male_Asi...    384     512   \n",
       "18898  /opt/ml/code/data/train/images/006959_male_Asi...    384     512   \n",
       "18899  /opt/ml/code/data/train/images/006959_male_Asi...    384     512   \n",
       "\n",
       "       volume  channel  \n",
       "0       25111      3.0  \n",
       "1       25623      3.0  \n",
       "2       23873      3.0  \n",
       "3       24410      3.0  \n",
       "4       22446      3.0  \n",
       "...       ...      ...  \n",
       "18895   16943      3.0  \n",
       "18896   16901      3.0  \n",
       "18897   17146      3.0  \n",
       "18898   18729      3.0  \n",
       "18899   17280      3.0  \n",
       "\n",
       "[18900 rows x 5 columns]"
      ]
     },
     "execution_count": 5,
     "metadata": {},
     "output_type": "execute_result"
    }
   ],
   "source": [
    "train_image_data_df = pd.read_csv('/opt/ml/code/data processing/EDA & Preprocessing/train_image_info.csv')\n",
    "train_image_data_df"
   ]
  },
  {
   "cell_type": "code",
   "execution_count": 7,
   "id": "9b7fd742-9ecc-4c91-b0d8-7e434e80b2e0",
   "metadata": {},
   "outputs": [
    {
     "name": "stdout",
     "output_type": "stream",
     "text": [
      "<class 'pandas.core.frame.DataFrame'>\n",
      "RangeIndex: 18900 entries, 0 to 18899\n",
      "Data columns (total 5 columns):\n",
      " #   Column   Non-Null Count  Dtype  \n",
      "---  ------   --------------  -----  \n",
      " 0   path     18900 non-null  object \n",
      " 1   width    18900 non-null  int64  \n",
      " 2   height   18900 non-null  int64  \n",
      " 3   volume   18900 non-null  int64  \n",
      " 4   channel  18900 non-null  float64\n",
      "dtypes: float64(1), int64(3), object(1)\n",
      "memory usage: 738.4+ KB\n"
     ]
    }
   ],
   "source": [
    "train_image_data_df.info()"
   ]
  },
  {
   "cell_type": "code",
   "execution_count": 34,
   "id": "96ac03ab-651b-452c-8137-86f09a0fdd40",
   "metadata": {},
   "outputs": [
    {
     "data": {
      "text/html": [
       "<div>\n",
       "<style scoped>\n",
       "    .dataframe tbody tr th:only-of-type {\n",
       "        vertical-align: middle;\n",
       "    }\n",
       "\n",
       "    .dataframe tbody tr th {\n",
       "        vertical-align: top;\n",
       "    }\n",
       "\n",
       "    .dataframe thead th {\n",
       "        text-align: right;\n",
       "    }\n",
       "</style>\n",
       "<table border=\"1\" class=\"dataframe\">\n",
       "  <thead>\n",
       "    <tr style=\"text-align: right;\">\n",
       "      <th></th>\n",
       "      <th>path</th>\n",
       "      <th>width</th>\n",
       "      <th>height</th>\n",
       "      <th>volume</th>\n",
       "      <th>channel</th>\n",
       "    </tr>\n",
       "  </thead>\n",
       "  <tbody>\n",
       "    <tr>\n",
       "      <th>count</th>\n",
       "      <td>18900</td>\n",
       "      <td>18900.0</td>\n",
       "      <td>18900.0</td>\n",
       "      <td>18900.000000</td>\n",
       "      <td>18900.0</td>\n",
       "    </tr>\n",
       "    <tr>\n",
       "      <th>unique</th>\n",
       "      <td>18900</td>\n",
       "      <td>NaN</td>\n",
       "      <td>NaN</td>\n",
       "      <td>NaN</td>\n",
       "      <td>NaN</td>\n",
       "    </tr>\n",
       "    <tr>\n",
       "      <th>top</th>\n",
       "      <td>/opt/ml/code/data/train/images/000001_female_Asian_45/mask3.jpg</td>\n",
       "      <td>NaN</td>\n",
       "      <td>NaN</td>\n",
       "      <td>NaN</td>\n",
       "      <td>NaN</td>\n",
       "    </tr>\n",
       "    <tr>\n",
       "      <th>freq</th>\n",
       "      <td>1</td>\n",
       "      <td>NaN</td>\n",
       "      <td>NaN</td>\n",
       "      <td>NaN</td>\n",
       "      <td>NaN</td>\n",
       "    </tr>\n",
       "    <tr>\n",
       "      <th>mean</th>\n",
       "      <td>NaN</td>\n",
       "      <td>384.0</td>\n",
       "      <td>512.0</td>\n",
       "      <td>25121.529206</td>\n",
       "      <td>3.0</td>\n",
       "    </tr>\n",
       "    <tr>\n",
       "      <th>std</th>\n",
       "      <td>NaN</td>\n",
       "      <td>0.0</td>\n",
       "      <td>0.0</td>\n",
       "      <td>27722.298528</td>\n",
       "      <td>0.0</td>\n",
       "    </tr>\n",
       "    <tr>\n",
       "      <th>min</th>\n",
       "      <td>NaN</td>\n",
       "      <td>384.0</td>\n",
       "      <td>512.0</td>\n",
       "      <td>8967.000000</td>\n",
       "      <td>3.0</td>\n",
       "    </tr>\n",
       "    <tr>\n",
       "      <th>25%</th>\n",
       "      <td>NaN</td>\n",
       "      <td>384.0</td>\n",
       "      <td>512.0</td>\n",
       "      <td>17046.750000</td>\n",
       "      <td>3.0</td>\n",
       "    </tr>\n",
       "    <tr>\n",
       "      <th>50%</th>\n",
       "      <td>NaN</td>\n",
       "      <td>384.0</td>\n",
       "      <td>512.0</td>\n",
       "      <td>20070.500000</td>\n",
       "      <td>3.0</td>\n",
       "    </tr>\n",
       "    <tr>\n",
       "      <th>75%</th>\n",
       "      <td>NaN</td>\n",
       "      <td>384.0</td>\n",
       "      <td>512.0</td>\n",
       "      <td>24014.000000</td>\n",
       "      <td>3.0</td>\n",
       "    </tr>\n",
       "    <tr>\n",
       "      <th>max</th>\n",
       "      <td>NaN</td>\n",
       "      <td>384.0</td>\n",
       "      <td>512.0</td>\n",
       "      <td>259850.000000</td>\n",
       "      <td>3.0</td>\n",
       "    </tr>\n",
       "  </tbody>\n",
       "</table>\n",
       "</div>"
      ],
      "text/plain": [
       "                                                                   path  \\\n",
       "count                                                             18900   \n",
       "unique                                                            18900   \n",
       "top     /opt/ml/code/data/train/images/000001_female_Asian_45/mask3.jpg   \n",
       "freq                                                                  1   \n",
       "mean                                                                NaN   \n",
       "std                                                                 NaN   \n",
       "min                                                                 NaN   \n",
       "25%                                                                 NaN   \n",
       "50%                                                                 NaN   \n",
       "75%                                                                 NaN   \n",
       "max                                                                 NaN   \n",
       "\n",
       "          width   height         volume  channel  \n",
       "count   18900.0  18900.0   18900.000000  18900.0  \n",
       "unique      NaN      NaN            NaN      NaN  \n",
       "top         NaN      NaN            NaN      NaN  \n",
       "freq        NaN      NaN            NaN      NaN  \n",
       "mean      384.0    512.0   25121.529206      3.0  \n",
       "std         0.0      0.0   27722.298528      0.0  \n",
       "min       384.0    512.0    8967.000000      3.0  \n",
       "25%       384.0    512.0   17046.750000      3.0  \n",
       "50%       384.0    512.0   20070.500000      3.0  \n",
       "75%       384.0    512.0   24014.000000      3.0  \n",
       "max       384.0    512.0  259850.000000      3.0  "
      ]
     },
     "execution_count": 34,
     "metadata": {},
     "output_type": "execute_result"
    }
   ],
   "source": [
    "train_image_data_df.describe(include='all')"
   ]
  },
  {
   "cell_type": "markdown",
   "id": "fad9acea-53b6-491b-99a6-5a675087cd13",
   "metadata": {},
   "source": [
    "## width, height, channel"
   ]
  },
  {
   "cell_type": "markdown",
   "id": "7b304257-c75b-468b-bc3d-e6ca2fac12d1",
   "metadata": {},
   "source": [
    "## width height"
   ]
  },
  {
   "cell_type": "code",
   "execution_count": 21,
   "id": "a8631f05-cef0-4f1b-8d41-1963989dbf4b",
   "metadata": {},
   "outputs": [
    {
     "data": {
      "text/plain": [
       "array([384])"
      ]
     },
     "execution_count": 21,
     "metadata": {},
     "output_type": "execute_result"
    }
   ],
   "source": [
    "train_image_data_df['width'].unique()"
   ]
  },
  {
   "cell_type": "code",
   "execution_count": 23,
   "id": "71b16299-9f05-4676-ad35-0d245070bf00",
   "metadata": {},
   "outputs": [
    {
     "data": {
      "text/plain": [
       "array([512])"
      ]
     },
     "execution_count": 23,
     "metadata": {},
     "output_type": "execute_result"
    }
   ],
   "source": [
    "train_image_data_df['height'].unique()"
   ]
  },
  {
   "cell_type": "code",
   "execution_count": 18,
   "id": "843ecb52-1eec-4ff8-bf4f-08985ad9c531",
   "metadata": {},
   "outputs": [
    {
     "data": {
      "text/plain": [
       "array([3.])"
      ]
     },
     "execution_count": 18,
     "metadata": {},
     "output_type": "execute_result"
    }
   ],
   "source": [
    "train_image_data_df['channel'].unique()"
   ]
  },
  {
   "cell_type": "markdown",
   "id": "eb0ac551-0bc2-411c-b8ab-8122854f4157",
   "metadata": {},
   "source": [
    "## 용량"
   ]
  },
  {
   "cell_type": "code",
   "execution_count": 28,
   "id": "fbc8f9a0-6c0c-497e-ad32-32eb23b04ea6",
   "metadata": {},
   "outputs": [
    {
     "data": {
      "text/plain": [
       "count     18900.000000\n",
       "mean      25121.529206\n",
       "std       27722.298528\n",
       "min        8967.000000\n",
       "25%       17046.750000\n",
       "50%       20070.500000\n",
       "75%       24014.000000\n",
       "max      259850.000000\n",
       "Name: volume, dtype: float64"
      ]
     },
     "execution_count": 28,
     "metadata": {},
     "output_type": "execute_result"
    }
   ],
   "source": [
    "train_image_data_df['volume'].describe()"
   ]
  },
  {
   "cell_type": "code",
   "execution_count": 33,
   "id": "577db96b-7f2a-4084-9275-1d07d0671bd8",
   "metadata": {},
   "outputs": [
    {
     "data": {
      "text/html": [
       "<div>\n",
       "<style scoped>\n",
       "    .dataframe tbody tr th:only-of-type {\n",
       "        vertical-align: middle;\n",
       "    }\n",
       "\n",
       "    .dataframe tbody tr th {\n",
       "        vertical-align: top;\n",
       "    }\n",
       "\n",
       "    .dataframe thead th {\n",
       "        text-align: right;\n",
       "    }\n",
       "</style>\n",
       "<table border=\"1\" class=\"dataframe\">\n",
       "  <thead>\n",
       "    <tr style=\"text-align: right;\">\n",
       "      <th></th>\n",
       "      <th>path</th>\n",
       "      <th>width</th>\n",
       "      <th>height</th>\n",
       "      <th>volume</th>\n",
       "      <th>channel</th>\n",
       "    </tr>\n",
       "  </thead>\n",
       "  <tbody>\n",
       "    <tr>\n",
       "      <th>17640</th>\n",
       "      <td>/opt/ml/code/data/train/images/006510_male_Asian_19/mask3.jpg</td>\n",
       "      <td>384</td>\n",
       "      <td>512</td>\n",
       "      <td>8967</td>\n",
       "      <td>3.0</td>\n",
       "    </tr>\n",
       "    <tr>\n",
       "      <th>18124</th>\n",
       "      <td>/opt/ml/code/data/train/images/006635_female_Asian_19/mask1.jpg</td>\n",
       "      <td>384</td>\n",
       "      <td>512</td>\n",
       "      <td>9795</td>\n",
       "      <td>3.0</td>\n",
       "    </tr>\n",
       "    <tr>\n",
       "      <th>17642</th>\n",
       "      <td>/opt/ml/code/data/train/images/006510_male_Asian_19/mask2.jpg</td>\n",
       "      <td>384</td>\n",
       "      <td>512</td>\n",
       "      <td>9807</td>\n",
       "      <td>3.0</td>\n",
       "    </tr>\n",
       "    <tr>\n",
       "      <th>13293</th>\n",
       "      <td>/opt/ml/code/data/train/images/004418_male_Asian_20/mask3.jpg</td>\n",
       "      <td>384</td>\n",
       "      <td>512</td>\n",
       "      <td>9866</td>\n",
       "      <td>3.0</td>\n",
       "    </tr>\n",
       "    <tr>\n",
       "      <th>13294</th>\n",
       "      <td>/opt/ml/code/data/train/images/004418_male_Asian_20/mask1.jpg</td>\n",
       "      <td>384</td>\n",
       "      <td>512</td>\n",
       "      <td>10163</td>\n",
       "      <td>3.0</td>\n",
       "    </tr>\n",
       "    <tr>\n",
       "      <th>...</th>\n",
       "      <td>...</td>\n",
       "      <td>...</td>\n",
       "      <td>...</td>\n",
       "      <td>...</td>\n",
       "      <td>...</td>\n",
       "    </tr>\n",
       "    <tr>\n",
       "      <th>16080</th>\n",
       "      <td>/opt/ml/code/data/train/images/006131_male_Asian_20/mask1.png</td>\n",
       "      <td>384</td>\n",
       "      <td>512</td>\n",
       "      <td>248805</td>\n",
       "      <td>3.0</td>\n",
       "    </tr>\n",
       "    <tr>\n",
       "      <th>16081</th>\n",
       "      <td>/opt/ml/code/data/train/images/006131_male_Asian_20/mask3.png</td>\n",
       "      <td>384</td>\n",
       "      <td>512</td>\n",
       "      <td>249111</td>\n",
       "      <td>3.0</td>\n",
       "    </tr>\n",
       "    <tr>\n",
       "      <th>16082</th>\n",
       "      <td>/opt/ml/code/data/train/images/006131_male_Asian_20/normal.png</td>\n",
       "      <td>384</td>\n",
       "      <td>512</td>\n",
       "      <td>250272</td>\n",
       "      <td>3.0</td>\n",
       "    </tr>\n",
       "    <tr>\n",
       "      <th>16083</th>\n",
       "      <td>/opt/ml/code/data/train/images/006131_male_Asian_20/mask4.png</td>\n",
       "      <td>384</td>\n",
       "      <td>512</td>\n",
       "      <td>256021</td>\n",
       "      <td>3.0</td>\n",
       "    </tr>\n",
       "    <tr>\n",
       "      <th>16084</th>\n",
       "      <td>/opt/ml/code/data/train/images/006131_male_Asian_20/mask2.png</td>\n",
       "      <td>384</td>\n",
       "      <td>512</td>\n",
       "      <td>259850</td>\n",
       "      <td>3.0</td>\n",
       "    </tr>\n",
       "  </tbody>\n",
       "</table>\n",
       "<p>18900 rows × 5 columns</p>\n",
       "</div>"
      ],
      "text/plain": [
       "                                                                  path  width  \\\n",
       "17640    /opt/ml/code/data/train/images/006510_male_Asian_19/mask3.jpg    384   \n",
       "18124  /opt/ml/code/data/train/images/006635_female_Asian_19/mask1.jpg    384   \n",
       "17642    /opt/ml/code/data/train/images/006510_male_Asian_19/mask2.jpg    384   \n",
       "13293    /opt/ml/code/data/train/images/004418_male_Asian_20/mask3.jpg    384   \n",
       "13294    /opt/ml/code/data/train/images/004418_male_Asian_20/mask1.jpg    384   \n",
       "...                                                                ...    ...   \n",
       "16080    /opt/ml/code/data/train/images/006131_male_Asian_20/mask1.png    384   \n",
       "16081    /opt/ml/code/data/train/images/006131_male_Asian_20/mask3.png    384   \n",
       "16082   /opt/ml/code/data/train/images/006131_male_Asian_20/normal.png    384   \n",
       "16083    /opt/ml/code/data/train/images/006131_male_Asian_20/mask4.png    384   \n",
       "16084    /opt/ml/code/data/train/images/006131_male_Asian_20/mask2.png    384   \n",
       "\n",
       "       height  volume  channel  \n",
       "17640     512    8967      3.0  \n",
       "18124     512    9795      3.0  \n",
       "17642     512    9807      3.0  \n",
       "13293     512    9866      3.0  \n",
       "13294     512   10163      3.0  \n",
       "...       ...     ...      ...  \n",
       "16080     512  248805      3.0  \n",
       "16081     512  249111      3.0  \n",
       "16082     512  250272      3.0  \n",
       "16083     512  256021      3.0  \n",
       "16084     512  259850      3.0  \n",
       "\n",
       "[18900 rows x 5 columns]"
      ]
     },
     "execution_count": 33,
     "metadata": {},
     "output_type": "execute_result"
    }
   ],
   "source": [
    "train_image_data_df.sort_values(by='volume')"
   ]
  },
  {
   "cell_type": "code",
   "execution_count": 35,
   "id": "18231220-ce49-4dbd-959f-7e7962382a61",
   "metadata": {},
   "outputs": [],
   "source": [
    "import seaborn as sns"
   ]
  },
  {
   "cell_type": "code",
   "execution_count": 47,
   "id": "6dff6444-4a8a-42c6-a9ed-c598f7d2a257",
   "metadata": {},
   "outputs": [
    {
     "data": {
      "text/plain": [
       "(array([   0.,  200.,  400.,  600.,  800., 1000.]),\n",
       " [Text(0, 0, ''),\n",
       "  Text(0, 0, ''),\n",
       "  Text(0, 0, ''),\n",
       "  Text(0, 0, ''),\n",
       "  Text(0, 0, ''),\n",
       "  Text(0, 0, '')])"
      ]
     },
     "execution_count": 47,
     "metadata": {},
     "output_type": "execute_result"
    },
    {
     "data": {
      "image/png": "[encoded data removed]",
      "text/plain": [
       "<Figure size 1440x720 with 1 Axes>"
      ]
     },
     "metadata": {
      "needs_background": "light"
     },
     "output_type": "display_data"
    }
   ],
   "source": [
    "plt.figure(figsize=(20, 10))\n",
    "sns.histplot(train_image_data_df['volume'])\n",
    "plt.title('Images volume', fontsize=25)\n",
    "plt.xlabel('Volume', fontsize=20)\n",
    "plt.ylabel('Density', fontsize=20)\n",
    "plt.xticks(fontsize=15)\n",
    "plt.yticks(fontsize=15)"
   ]
  },
  {
   "cell_type": "markdown",
   "id": "d39fba1c-b9d0-43ea-8707-4edc5e52b54a",
   "metadata": {},
   "source": [
    "# channel 별 y값과 상관관계"
   ]
  },
  {
   "cell_type": "code",
   "execution_count": 152,
   "id": "e7845599-4b6f-4f8f-8ba2-4dc4c337aec7",
   "metadata": {},
   "outputs": [
    {
     "data": {
      "text/html": [
       "<div>\n",
       "<style scoped>\n",
       "    .dataframe tbody tr th:only-of-type {\n",
       "        vertical-align: middle;\n",
       "    }\n",
       "\n",
       "    .dataframe tbody tr th {\n",
       "        vertical-align: top;\n",
       "    }\n",
       "\n",
       "    .dataframe thead th {\n",
       "        text-align: right;\n",
       "    }\n",
       "</style>\n",
       "<table border=\"1\" class=\"dataframe\">\n",
       "  <thead>\n",
       "    <tr style=\"text-align: right;\">\n",
       "      <th></th>\n",
       "      <th>path</th>\n",
       "      <th>label</th>\n",
       "    </tr>\n",
       "  </thead>\n",
       "  <tbody>\n",
       "    <tr>\n",
       "      <th>0</th>\n",
       "      <td>/opt/ml/code/data/train/images/000001_female_Asian_45/mask3.jpg</td>\n",
       "      <td>4</td>\n",
       "    </tr>\n",
       "    <tr>\n",
       "      <th>1</th>\n",
       "      <td>/opt/ml/code/data/train/images/000001_female_Asian_45/mask1.jpg</td>\n",
       "      <td>4</td>\n",
       "    </tr>\n",
       "    <tr>\n",
       "      <th>2</th>\n",
       "      <td>/opt/ml/code/data/train/images/000001_female_Asian_45/mask2.jpg</td>\n",
       "      <td>4</td>\n",
       "    </tr>\n",
       "    <tr>\n",
       "      <th>3</th>\n",
       "      <td>/opt/ml/code/data/train/images/000001_female_Asian_45/mask4.jpg</td>\n",
       "      <td>4</td>\n",
       "    </tr>\n",
       "    <tr>\n",
       "      <th>4</th>\n",
       "      <td>/opt/ml/code/data/train/images/000001_female_Asian_45/normal.jpg</td>\n",
       "      <td>16</td>\n",
       "    </tr>\n",
       "    <tr>\n",
       "      <th>...</th>\n",
       "      <td>...</td>\n",
       "      <td>...</td>\n",
       "    </tr>\n",
       "    <tr>\n",
       "      <th>18895</th>\n",
       "      <td>/opt/ml/code/data/train/images/006959_male_Asian_19/mask2.jpg</td>\n",
       "      <td>0</td>\n",
       "    </tr>\n",
       "    <tr>\n",
       "      <th>18896</th>\n",
       "      <td>/opt/ml/code/data/train/images/006959_male_Asian_19/mask4.jpg</td>\n",
       "      <td>0</td>\n",
       "    </tr>\n",
       "    <tr>\n",
       "      <th>18897</th>\n",
       "      <td>/opt/ml/code/data/train/images/006959_male_Asian_19/normal.jpg</td>\n",
       "      <td>12</td>\n",
       "    </tr>\n",
       "    <tr>\n",
       "      <th>18898</th>\n",
       "      <td>/opt/ml/code/data/train/images/006959_male_Asian_19/mask5.jpg</td>\n",
       "      <td>0</td>\n",
       "    </tr>\n",
       "    <tr>\n",
       "      <th>18899</th>\n",
       "      <td>/opt/ml/code/data/train/images/006959_male_Asian_19/incorrect_mask.jpg</td>\n",
       "      <td>6</td>\n",
       "    </tr>\n",
       "  </tbody>\n",
       "</table>\n",
       "<p>18900 rows × 2 columns</p>\n",
       "</div>"
      ],
      "text/plain": [
       "                                                                         path  \\\n",
       "0             /opt/ml/code/data/train/images/000001_female_Asian_45/mask3.jpg   \n",
       "1             /opt/ml/code/data/train/images/000001_female_Asian_45/mask1.jpg   \n",
       "2             /opt/ml/code/data/train/images/000001_female_Asian_45/mask2.jpg   \n",
       "3             /opt/ml/code/data/train/images/000001_female_Asian_45/mask4.jpg   \n",
       "4            /opt/ml/code/data/train/images/000001_female_Asian_45/normal.jpg   \n",
       "...                                                                       ...   \n",
       "18895           /opt/ml/code/data/train/images/006959_male_Asian_19/mask2.jpg   \n",
       "18896           /opt/ml/code/data/train/images/006959_male_Asian_19/mask4.jpg   \n",
       "18897          /opt/ml/code/data/train/images/006959_male_Asian_19/normal.jpg   \n",
       "18898           /opt/ml/code/data/train/images/006959_male_Asian_19/mask5.jpg   \n",
       "18899  /opt/ml/code/data/train/images/006959_male_Asian_19/incorrect_mask.jpg   \n",
       "\n",
       "       label  \n",
       "0          4  \n",
       "1          4  \n",
       "2          4  \n",
       "3          4  \n",
       "4         16  \n",
       "...      ...  \n",
       "18895      0  \n",
       "18896      0  \n",
       "18897     12  \n",
       "18898      0  \n",
       "18899      6  \n",
       "\n",
       "[18900 rows x 2 columns]"
      ]
     },
     "execution_count": 152,
     "metadata": {},
     "output_type": "execute_result"
    }
   ],
   "source": [
    "train_label = pd.read_csv('/opt/ml/code/data processing/EDA & Preprocessing/train_label.csv')\n",
    "train_label"
   ]
  },
  {
   "cell_type": "code",
   "execution_count": 239,
   "id": "d27033da-cfba-493c-9d47-77a633bfa932",
   "metadata": {},
   "outputs": [],
   "source": [
    "channel_col_name = [f'channel_R_{i}' for i in range(100)]\n",
    "train_label_channel_R_df = pd.DataFrame(None, columns=['path']+channel_col_name+['label'])\n",
    "\n",
    "channel_col_name = [f'channel_G_{i}' for i in range(100)]\n",
    "train_label_channel_G_df = pd.DataFrame(None, columns=['path']+channel_col_name+['label'])\n",
    "\n",
    "channel_col_name = [f'channel_B_{i}' for i in range(100)]\n",
    "train_label_channel_B_df = pd.DataFrame(None, columns=['path']+channel_col_name+['label'])"
   ]
  },
  {
   "cell_type": "code",
   "execution_count": 240,
   "id": "7918dbdd-b471-4400-b762-a6c6bc324d54",
   "metadata": {},
   "outputs": [],
   "source": [
    "for index, line in enumerate(train_label.iloc):\n",
    "    path, label = line\n",
    "    img = Image.open(path)\n",
    "    img_trans = torchvision.transforms.Compose([torchvision.transforms.Resize(size=(10, 10)), torchvision.transforms.ToTensor()])(img)\n",
    "    channel_R_list, channel_G_list, channel_B_list = img_trans[0].flatten().tolist(), img_trans[1].flatten().tolist(), img_trans[2].flatten().tolist()\n",
    "\n",
    "    train_label_channel_R_df.loc[index] = [path]+channel_R_list+[label]\n",
    "    train_label_channel_G_df.loc[index] = [path]+channel_G_list+[label]\n",
    "    train_label_channel_B_df.loc[index] = [path]+channel_B_list+[label]"
   ]
  },
  {
   "cell_type": "code",
   "execution_count": 241,
   "id": "1ae9a4f1-4d0c-431d-99d4-508f9beb562a",
   "metadata": {},
   "outputs": [],
   "source": [
    "train_label_channel_R_df.to_csv('/opt/ml/code/data processing/EDA & Preprocessing/train_label_channel_R.csv', index=False)\n",
    "train_label_channel_G_df.to_csv('/opt/ml/code/data processing/EDA & Preprocessing/train_label_channel_G.csv', index=False)\n",
    "train_label_channel_B_df.to_csv('/opt/ml/code/data processing/EDA & Preprocessing/train_label_channel_B.csv', index=False)"
   ]
  },
  {
   "cell_type": "code",
   "execution_count": null,
   "id": "323c4a3c-5232-4c0c-b6d7-e083a5dfe5a4",
   "metadata": {},
   "outputs": [],
   "source": [
    "fig, axes = plt.subplots(1, 3, figsize=(300, 100))\n",
    "sns.heatmap(train_label_channel_R_df.corr(), ax=axes[0], cmap='Reds', annot=True, fmt='.2f')\n",
    "sns.heatmap(train_label_channel_G_df.corr(), ax=axes[1], cmap='Greens',annot=True, fmt='.2f')\n",
    "sns.heatmap(train_label_channel_B_df.corr(), ax=axes[2], cmap='Blues',annot=True, fmt='.2f')\n",
    "plt.show()"
   ]
  }
 ],
 "metadata": {
  "kernelspec": {
   "display_name": "Python 3 (ipykernel)",
   "language": "python",
   "name": "python3"
  },
  "language_info": {
   "codemirror_mode": {
    "name": "ipython",
    "version": 3
   },
   "file_extension": ".py",
   "mimetype": "text/x-python",
   "name": "python",
   "nbconvert_exporter": "python",
   "pygments_lexer": "ipython3",
   "version": "3.8.5"
  }
 },
 "nbformat": 4,
 "nbformat_minor": 5
}
